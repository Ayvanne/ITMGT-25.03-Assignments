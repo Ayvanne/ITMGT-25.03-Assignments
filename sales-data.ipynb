{
 "cells": [
  {
   "cell_type": "code",
   "execution_count": 55,
   "id": "3d5fb03d-cb43-477a-a0c3-406785bfeba0",
   "metadata": {},
   "outputs": [
    {
     "name": "stdout",
     "output_type": "stream",
     "text": [
      "Requirement already satisfied: numpy in /Users/ivanjamesleebastilo/anaconda3/lib/python3.10/site-packages (1.23.5)\n",
      "Requirement already satisfied: pandas in /Users/ivanjamesleebastilo/anaconda3/lib/python3.10/site-packages (1.5.3)\n",
      "Requirement already satisfied: python-dateutil>=2.8.1 in /Users/ivanjamesleebastilo/anaconda3/lib/python3.10/site-packages (from pandas) (2.8.2)\n",
      "Requirement already satisfied: pytz>=2020.1 in /Users/ivanjamesleebastilo/anaconda3/lib/python3.10/site-packages (from pandas) (2022.7)\n",
      "Requirement already satisfied: numpy>=1.21.0 in /Users/ivanjamesleebastilo/anaconda3/lib/python3.10/site-packages (from pandas) (1.23.5)\n",
      "Requirement already satisfied: six>=1.5 in /Users/ivanjamesleebastilo/anaconda3/lib/python3.10/site-packages (from python-dateutil>=2.8.1->pandas) (1.16.0)\n",
      "Requirement already satisfied: matplotlib in /Users/ivanjamesleebastilo/anaconda3/lib/python3.10/site-packages (3.7.0)\n",
      "Requirement already satisfied: contourpy>=1.0.1 in /Users/ivanjamesleebastilo/anaconda3/lib/python3.10/site-packages (from matplotlib) (1.0.5)\n",
      "Requirement already satisfied: numpy>=1.20 in /Users/ivanjamesleebastilo/anaconda3/lib/python3.10/site-packages (from matplotlib) (1.23.5)\n",
      "Requirement already satisfied: packaging>=20.0 in /Users/ivanjamesleebastilo/anaconda3/lib/python3.10/site-packages (from matplotlib) (22.0)\n",
      "Requirement already satisfied: cycler>=0.10 in /Users/ivanjamesleebastilo/anaconda3/lib/python3.10/site-packages (from matplotlib) (0.11.0)\n",
      "Requirement already satisfied: fonttools>=4.22.0 in /Users/ivanjamesleebastilo/anaconda3/lib/python3.10/site-packages (from matplotlib) (4.25.0)\n",
      "Requirement already satisfied: kiwisolver>=1.0.1 in /Users/ivanjamesleebastilo/anaconda3/lib/python3.10/site-packages (from matplotlib) (1.4.4)\n",
      "Requirement already satisfied: pillow>=6.2.0 in /Users/ivanjamesleebastilo/anaconda3/lib/python3.10/site-packages (from matplotlib) (9.4.0)\n",
      "Requirement already satisfied: pyparsing>=2.3.1 in /Users/ivanjamesleebastilo/anaconda3/lib/python3.10/site-packages (from matplotlib) (3.0.9)\n",
      "Requirement already satisfied: python-dateutil>=2.7 in /Users/ivanjamesleebastilo/anaconda3/lib/python3.10/site-packages (from matplotlib) (2.8.2)\n",
      "Requirement already satisfied: six>=1.5 in /Users/ivanjamesleebastilo/anaconda3/lib/python3.10/site-packages (from python-dateutil>=2.7->matplotlib) (1.16.0)\n"
     ]
    }
   ],
   "source": [
    "!pip install numpy\n",
    "!pip install pandas\n",
    "!pip install matplotlib"
   ]
  },
  {
   "cell_type": "code",
   "execution_count": 56,
   "id": "7a353bd6-6ec4-488f-964d-5dfc985d3814",
   "metadata": {},
   "outputs": [],
   "source": [
    "import numpy as np\n",
    "import pandas as pd\n",
    "import matplotlib.pyplot as plt\n",
    "import json"
   ]
  },
  {
   "cell_type": "code",
   "execution_count": 57,
   "id": "4765249e-0509-4fb1-8194-8b5f70d29a48",
   "metadata": {},
   "outputs": [],
   "source": [
    "invoices_df = pd.read_csv('/Users/ivanjamesleebastilo/Desktop/fct_invoice.csv')"
   ]
  },
  {
   "cell_type": "code",
   "execution_count": 58,
   "id": "e8f39aef-10d7-4a8b-9eea-2e4e7df5f7c3",
   "metadata": {},
   "outputs": [],
   "source": [
    "with open('/Users/ivanjamesleebastilo/Desktop/dim_customer.json') as json_file:\n",
    "    customer_data = json.load(json_file)\n",
    "customer_df = pd.DataFrame(customer_data)"
   ]
  },
  {
   "cell_type": "markdown",
   "id": "98277acb-88ad-4e2c-8a6f-23ccbdd34e0c",
   "metadata": {},
   "source": [
    "EASY"
   ]
  },
  {
   "cell_type": "markdown",
   "id": "e36d1770-15e4-48c2-915b-ca64bf983663",
   "metadata": {},
   "source": [
    "1. How many unique customers are in the dataset?"
   ]
  },
  {
   "cell_type": "code",
   "execution_count": 59,
   "id": "3914768b-0f30-4a22-beff-c58f5bcf021e",
   "metadata": {},
   "outputs": [
    {
     "data": {
      "text/plain": [
       "5191"
      ]
     },
     "execution_count": 59,
     "metadata": {},
     "output_type": "execute_result"
    }
   ],
   "source": [
    "unique_customers = invoices_df['customer_id'].nunique()\n",
    "unique_customers"
   ]
  },
  {
   "cell_type": "markdown",
   "id": "479760d8-620b-4de2-a33d-4d990fc08ba6",
   "metadata": {},
   "source": [
    "2. What are the different categories of products available? How many unique categories are there?"
   ]
  },
  {
   "cell_type": "code",
   "execution_count": 60,
   "id": "e6ae8475-ffdf-4185-b0d5-74b62e690932",
   "metadata": {},
   "outputs": [
    {
     "data": {
      "text/plain": [
       "'Clothing, Shoes, Books, Cosmetics, Food & Beverage, Toys, Technology, Souvenir'"
      ]
     },
     "execution_count": 60,
     "metadata": {},
     "output_type": "execute_result"
    }
   ],
   "source": [
    "categories = invoices_df['category'].unique()\n",
    "categories_list = ', '.join(categories)\n",
    "categories_list"
   ]
  },
  {
   "cell_type": "code",
   "execution_count": 61,
   "id": "8db5120a-2a7f-46be-8d5e-5d79ea255231",
   "metadata": {},
   "outputs": [
    {
     "data": {
      "text/plain": [
       "8"
      ]
     },
     "execution_count": 61,
     "metadata": {},
     "output_type": "execute_result"
    }
   ],
   "source": [
    "unique_categories = invoices_df['category'].nunique()\n",
    "unique_categories"
   ]
  },
  {
   "cell_type": "markdown",
   "id": "1bb7a606-2501-44af-a3d6-d0d490a9af94",
   "metadata": {},
   "source": [
    "3. Which payment method is the most popular? How many times was it used?"
   ]
  },
  {
   "cell_type": "code",
   "execution_count": 62,
   "id": "2907df33-5aaa-4c89-8825-b6036cac8b10",
   "metadata": {},
   "outputs": [
    {
     "data": {
      "text/plain": [
       "('Cash', 44447)"
      ]
     },
     "execution_count": 62,
     "metadata": {},
     "output_type": "execute_result"
    }
   ],
   "source": [
    "popular_payment = invoices_df['payment_method'].value_counts().idxmax()\n",
    "usage = invoices_df['payment_method'].value_counts().max()\n",
    "popular_payment, usage"
   ]
  },
  {
   "cell_type": "markdown",
   "id": "4b676ef1-c558-4af1-8188-2a023895fd31",
   "metadata": {},
   "source": [
    "MEDIUM"
   ]
  },
  {
   "cell_type": "markdown",
   "id": "9ca1a6c0-6a08-4984-a2a5-762aa5d368b0",
   "metadata": {},
   "source": [
    "1. What are the three most popular categories, by total sales?"
   ]
  },
  {
   "cell_type": "code",
   "execution_count": 63,
   "id": "b71098aa-4eb7-44dd-98ab-361d93994949",
   "metadata": {},
   "outputs": [
    {
     "data": {
      "text/plain": [
       "[['Clothing', 113996791.03999999],\n",
       " ['Shoes', 66553451.47],\n",
       " ['Technology', 57862350.0]]"
      ]
     },
     "execution_count": 63,
     "metadata": {},
     "output_type": "execute_result"
    }
   ],
   "source": [
    "invoices_df['total_sales'] = invoices_df['quantity'] * invoices_df['price']\n",
    "category_sales = invoices_df.groupby('category')['total_sales'].sum()\n",
    "popular_categories = category_sales.nlargest(3)\n",
    "popular_categories = popular_categories.reset_index()\n",
    "popular_categories_items = popular_categories.to_dict('split')['data']\n",
    "popular_categories_items"
   ]
  },
  {
   "cell_type": "markdown",
   "id": "c798025e-ba22-4a24-bc2d-bcab10228ca2",
   "metadata": {},
   "source": [
    "2. What are the total sales attributed to customers over the age of 45?"
   ]
  },
  {
   "cell_type": "code",
   "execution_count": 64,
   "id": "6da58b99-7306-4704-8cc2-e1c6756b9365",
   "metadata": {},
   "outputs": [
    {
     "data": {
      "text/plain": [
       "82039768.15"
      ]
     },
     "execution_count": 64,
     "metadata": {},
     "output_type": "execute_result"
    }
   ],
   "source": [
    "customersover_45 = customer_df[customer_df['age'] > 45]\n",
    "customeridsover_45 = customersover_45['id']\n",
    "invoicesover_45 = invoices_df[invoices_df['customer_id'].isin(customeridsover_45)]\n",
    "totalsalesover_45 = (invoicesover_45['price'] * invoicesover_45['quantity']).sum()\n",
    "totalsalesover_45"
   ]
  },
  {
   "cell_type": "markdown",
   "id": "c057d408-b8aa-4b7e-a6a2-6cd6ee28fd34",
   "metadata": {},
   "source": [
    "3. How is the data distributed across different invoice dates? Are there any seasonal trends or patterns?"
   ]
  },
  {
   "cell_type": "code",
   "execution_count": 65,
   "id": "0719e841-5c9d-4de2-8b2c-593ad8d6477a",
   "metadata": {},
   "outputs": [
    {
     "data": {
      "image/png": "[encoded data removed]",
      "text/plain": [
       "<Figure size 1000x600 with 1 Axes>"
      ]
     },
     "metadata": {},
     "output_type": "display_data"
    }
   ],
   "source": [
    "invoices_df['invoice_date'] = pd.to_datetime(invoices_df['invoice_date'], format='%d/%m/%Y')\n",
    "invoices_df['month_year'] = invoices_df['invoice_date'].dt.to_period('M')\n",
    "monthly_sales = invoices_df.groupby('month_year')['total_sales'].sum()\n",
    "\n",
    "plt.figure(figsize=(10, 6))\n",
    "plt.plot(monthly_sales.index.astype(str), monthly_sales.values)\n",
    "plt.xlabel('Month-Year')\n",
    "plt.ylabel('Total Sales')\n",
    "plt.title('Monthly Sales Distribution')\n",
    "plt.xticks(rotation=45)\n",
    "plt.show()"
   ]
  },
  {
   "cell_type": "markdown",
   "id": "0bac77a4-956c-42dc-9423-543acb3a272e",
   "metadata": {},
   "source": [
    "Hard"
   ]
  },
  {
   "cell_type": "markdown",
   "id": "89946101-2cc9-4f46-a0af-b88c9e682c6a",
   "metadata": {},
   "source": [
    "Question 1: Create a pivot table showing the breakdown of sales across dimensions - category and decade age range."
   ]
  },
  {
   "cell_type": "code",
   "execution_count": 66,
   "id": "f651744d-2ff1-4c01-be18-85aebbe1fd6d",
   "metadata": {},
   "outputs": [
    {
     "data": {
      "text/html": [
       "<div>\n",
       "<style scoped>\n",
       "    .dataframe tbody tr th:only-of-type {\n",
       "        vertical-align: middle;\n",
       "    }\n",
       "\n",
       "    .dataframe tbody tr th {\n",
       "        vertical-align: top;\n",
       "    }\n",
       "\n",
       "    .dataframe thead th {\n",
       "        text-align: right;\n",
       "    }\n",
       "</style>\n",
       "<table border=\"1\" class=\"dataframe\">\n",
       "  <thead>\n",
       "    <tr style=\"text-align: right;\">\n",
       "      <th>decade_age_range</th>\n",
       "      <th>[0, 10)</th>\n",
       "      <th>[10, 20)</th>\n",
       "      <th>[20, 30)</th>\n",
       "      <th>[30, 40)</th>\n",
       "      <th>[40, 50)</th>\n",
       "      <th>[50, 60)</th>\n",
       "      <th>[60, 70)</th>\n",
       "      <th>[70, 80)</th>\n",
       "      <th>[80, 90)</th>\n",
       "    </tr>\n",
       "    <tr>\n",
       "      <th>category</th>\n",
       "      <th></th>\n",
       "      <th></th>\n",
       "      <th></th>\n",
       "      <th></th>\n",
       "      <th></th>\n",
       "      <th></th>\n",
       "      <th></th>\n",
       "      <th></th>\n",
       "      <th></th>\n",
       "    </tr>\n",
       "  </thead>\n",
       "  <tbody>\n",
       "    <tr>\n",
       "      <th>Books</th>\n",
       "      <td>0.0</td>\n",
       "      <td>12801.75</td>\n",
       "      <td>79461.75</td>\n",
       "      <td>84143.10</td>\n",
       "      <td>87203.40</td>\n",
       "      <td>74962.20</td>\n",
       "      <td>80476.80</td>\n",
       "      <td>54827.85</td>\n",
       "      <td>26664.00</td>\n",
       "    </tr>\n",
       "    <tr>\n",
       "      <th>Clothing</th>\n",
       "      <td>0.0</td>\n",
       "      <td>1927413.84</td>\n",
       "      <td>10250732.80</td>\n",
       "      <td>11354126.96</td>\n",
       "      <td>11215189.92</td>\n",
       "      <td>10321851.76</td>\n",
       "      <td>10660642.08</td>\n",
       "      <td>7769371.28</td>\n",
       "      <td>4493698.00</td>\n",
       "    </tr>\n",
       "    <tr>\n",
       "      <th>Cosmetics</th>\n",
       "      <td>0.0</td>\n",
       "      <td>109619.36</td>\n",
       "      <td>605915.32</td>\n",
       "      <td>723544.70</td>\n",
       "      <td>665034.96</td>\n",
       "      <td>587780.96</td>\n",
       "      <td>649990.76</td>\n",
       "      <td>419082.62</td>\n",
       "      <td>254531.60</td>\n",
       "    </tr>\n",
       "    <tr>\n",
       "      <th>Food &amp; Beverage</th>\n",
       "      <td>0.0</td>\n",
       "      <td>13582.31</td>\n",
       "      <td>73491.96</td>\n",
       "      <td>87246.86</td>\n",
       "      <td>89553.29</td>\n",
       "      <td>72425.04</td>\n",
       "      <td>80976.09</td>\n",
       "      <td>55050.98</td>\n",
       "      <td>31332.93</td>\n",
       "    </tr>\n",
       "    <tr>\n",
       "      <th>Shoes</th>\n",
       "      <td>0.0</td>\n",
       "      <td>993281.35</td>\n",
       "      <td>5924878.24</td>\n",
       "      <td>7200839.66</td>\n",
       "      <td>7025590.02</td>\n",
       "      <td>5852857.84</td>\n",
       "      <td>5978893.54</td>\n",
       "      <td>4480269.05</td>\n",
       "      <td>2628744.60</td>\n",
       "    </tr>\n",
       "    <tr>\n",
       "      <th>Souvenir</th>\n",
       "      <td>0.0</td>\n",
       "      <td>12375.15</td>\n",
       "      <td>54943.32</td>\n",
       "      <td>64092.72</td>\n",
       "      <td>66391.80</td>\n",
       "      <td>54943.32</td>\n",
       "      <td>55025.43</td>\n",
       "      <td>38673.81</td>\n",
       "      <td>23718.06</td>\n",
       "    </tr>\n",
       "    <tr>\n",
       "      <th>Technology</th>\n",
       "      <td>0.0</td>\n",
       "      <td>1129800.00</td>\n",
       "      <td>5261550.00</td>\n",
       "      <td>6159300.00</td>\n",
       "      <td>5954550.00</td>\n",
       "      <td>4435200.00</td>\n",
       "      <td>5471550.00</td>\n",
       "      <td>3638250.00</td>\n",
       "      <td>1946700.00</td>\n",
       "    </tr>\n",
       "    <tr>\n",
       "      <th>Toys</th>\n",
       "      <td>0.0</td>\n",
       "      <td>60426.24</td>\n",
       "      <td>385100.80</td>\n",
       "      <td>420582.40</td>\n",
       "      <td>390906.88</td>\n",
       "      <td>345067.52</td>\n",
       "      <td>363955.20</td>\n",
       "      <td>273244.16</td>\n",
       "      <td>153932.80</td>\n",
       "    </tr>\n",
       "  </tbody>\n",
       "</table>\n",
       "</div>"
      ],
      "text/plain": [
       "decade_age_range  [0, 10)    [10, 20)     [20, 30)     [30, 40)     [40, 50)  \\\n",
       "category                                                                       \n",
       "Books                 0.0    12801.75     79461.75     84143.10     87203.40   \n",
       "Clothing              0.0  1927413.84  10250732.80  11354126.96  11215189.92   \n",
       "Cosmetics             0.0   109619.36    605915.32    723544.70    665034.96   \n",
       "Food & Beverage       0.0    13582.31     73491.96     87246.86     89553.29   \n",
       "Shoes                 0.0   993281.35   5924878.24   7200839.66   7025590.02   \n",
       "Souvenir              0.0    12375.15     54943.32     64092.72     66391.80   \n",
       "Technology            0.0  1129800.00   5261550.00   6159300.00   5954550.00   \n",
       "Toys                  0.0    60426.24    385100.80    420582.40    390906.88   \n",
       "\n",
       "decade_age_range     [50, 60)     [60, 70)    [70, 80)    [80, 90)  \n",
       "category                                                            \n",
       "Books                74962.20     80476.80    54827.85    26664.00  \n",
       "Clothing          10321851.76  10660642.08  7769371.28  4493698.00  \n",
       "Cosmetics           587780.96    649990.76   419082.62   254531.60  \n",
       "Food & Beverage      72425.04     80976.09    55050.98    31332.93  \n",
       "Shoes              5852857.84   5978893.54  4480269.05  2628744.60  \n",
       "Souvenir             54943.32     55025.43    38673.81    23718.06  \n",
       "Technology         4435200.00   5471550.00  3638250.00  1946700.00  \n",
       "Toys                345067.52    363955.20   273244.16   153932.80  "
      ]
     },
     "execution_count": 66,
     "metadata": {},
     "output_type": "execute_result"
    }
   ],
   "source": [
    "customer_df['decade_age_range'] = pd.cut(customer_df['age'], bins=np.arange(0, 100, 10), right=False)\n",
    "merged_df = pd.merge(invoices_df, customer_df, left_on='customer_id', right_on='id')\n",
    "pivot_table = pd.pivot_table(merged_df, values='total_sales', index='category', columns='decade_age_range', aggfunc=np.sum)\n",
    "pivot_table"
   ]
  }
 ],
 "metadata": {
  "kernelspec": {
   "display_name": "Python 3 (ipykernel)",
   "language": "python",
   "name": "python3"
  },
  "language_info": {
   "codemirror_mode": {
    "name": "ipython",
    "version": 3
   },
   "file_extension": ".py",
   "mimetype": "text/x-python",
   "name": "python",
   "nbconvert_exporter": "python",
   "pygments_lexer": "ipython3",
   "version": "3.10.9"
  }
 },
 "nbformat": 4,
 "nbformat_minor": 5
}
